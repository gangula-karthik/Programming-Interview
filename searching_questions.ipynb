{
 "cells": [
  {
   "cell_type": "code",
   "execution_count": 1,
   "id": "a5b47b21-44fd-4af1-8ddb-18eeeffc640a",
   "metadata": {
    "tags": []
   },
   "outputs": [],
   "source": [
    "# excercise 11.1\n",
    "def binary_search(arr, target): \n",
    "    low = 0\n",
    "    high = len(arr) - 1\n",
    "    while high >= low: \n",
    "        mid = low + (high - low) // 2\n",
    "        if arr[mid] == target:\n",
    "            if mid == 0 or arr[mid - 1] != target: \n",
    "                return f\"element {arr[mid]} found at index {mid}\"\n",
    "            else:\n",
    "                high = mid - 1\n",
    "        elif arr[mid] > target: \n",
    "            high = mid - 1\n",
    "        elif arr[mid] < target: \n",
    "            low = mid + 1\n",
    "    return \"Not Found!\""
   ]
  },
  {
   "cell_type": "code",
   "execution_count": 2,
   "id": "a77573e6-4fad-4026-badf-4a36b149aa69",
   "metadata": {
    "tags": []
   },
   "outputs": [
    {
     "name": "stdout",
     "output_type": "stream",
     "text": [
      "element 1 found at index 2\n",
      "element 7 found at index 6\n"
     ]
    }
   ],
   "source": [
    "array = [-1, 0, 1, 3, 5]\n",
    "target = 1\n",
    "print(binary_search(array, target))\n",
    "      \n",
    "array = [1, 2, 3, 4, 5, 6, 7, 7, 7]\n",
    "target = 7\n",
    "print(binary_search(array, target))"
   ]
  },
  {
   "cell_type": "code",
   "execution_count": 3,
   "id": "19cb9fab-9da7-4815-a6d2-f0129be737d4",
   "metadata": {
    "tags": []
   },
   "outputs": [],
   "source": [
    "# excercise 11.2\n",
    "\n",
    "def search_entry_equal_to_index(arr):\n",
    "    low, high = 0, len(arr) - 1\n",
    "    while low <= high: \n",
    "        mid = (low + high) // 2\n",
    "        dif = arr[mid] - mid\n",
    "        if dif == 0: \n",
    "            return mid\n",
    "        elif dif > 0: \n",
    "            low = mid - 1\n",
    "        elif dif < 0: \n",
    "            high = mid + 1\n",
    "    \n",
    "    return -1"
   ]
  },
  {
   "cell_type": "code",
   "execution_count": 4,
   "id": "a117b90c",
   "metadata": {
    "tags": []
   },
   "outputs": [
    {
     "name": "stdout",
     "output_type": "stream",
     "text": [
      "3\n"
     ]
    }
   ],
   "source": [
    "print(search_entry_equal_to_index([-2,0,2,3,6,7,9]))"
   ]
  },
  {
   "cell_type": "code",
   "execution_count": 5,
   "id": "075bd8d1",
   "metadata": {
    "tags": []
   },
   "outputs": [],
   "source": [
    "# excercise 11.3\n",
    "def search_smallest(arr): \n",
    "    low = 0\n",
    "    high = len(arr) - 1\n",
    "    while low < high: \n",
    "        mid = (low + high) // 2\n",
    "        if arr[mid] > arr[high]: \n",
    "            low = mid + 1\n",
    "        elif arr[mid] < arr[high]: \n",
    "            high = mid\n",
    "    return high"
   ]
  },
  {
   "cell_type": "code",
   "execution_count": 6,
   "id": "9be25e91",
   "metadata": {
    "tags": []
   },
   "outputs": [
    {
     "name": "stdout",
     "output_type": "stream",
     "text": [
      "4\n",
      "0\n"
     ]
    }
   ],
   "source": [
    "# test cases\n",
    "print(search_smallest([378, 478, 550, 631, 103, 203, 220, 234, 279, 368]))\n",
    "print(search_smallest([103, 203, 220, 234, 279, 368, 378, 478, 550, 631]))"
   ]
  },
  {
   "cell_type": "code",
   "execution_count": 7,
   "id": "aeea1f86-868c-44ad-a135-97c6e9c6bd47",
   "metadata": {
    "tags": []
   },
   "outputs": [],
   "source": [
    "# excercise 11.4\n",
    "\n",
    "def square_root(k): \n",
    "    if k < 0: \n",
    "        return \"provide a positive number\"\n",
    "    low = 0\n",
    "    high = k\n",
    "    while high >= low: \n",
    "        mid = (high + low) // 2\n",
    "        if mid * mid == k: \n",
    "            return mid \n",
    "        elif mid * mid < k:\n",
    "            low = mid + 1\n",
    "        elif mid * mid > k: \n",
    "            high = mid - 1\n",
    "    return mid"
   ]
  },
  {
   "cell_type": "code",
   "execution_count": 8,
   "id": "4c0895ec-0b35-445d-b5bf-e53524ef896c",
   "metadata": {
    "tags": []
   },
   "outputs": [
    {
     "name": "stdout",
     "output_type": "stream",
     "text": [
      "5\n",
      "18\n"
     ]
    }
   ],
   "source": [
    "print(square_root(25))\n",
    "print(square_root(300)) # return the next biggest number"
   ]
  },
  {
   "cell_type": "code",
   "execution_count": 9,
   "id": "3c222483-6788-4182-bc5b-e2a560aefcaa",
   "metadata": {},
   "outputs": [],
   "source": [
    "# excercise 11.5\n",
    "import math\n",
    "\n",
    "\n",
    "def square_root(x): \n",
    "    low, high = 0.0, float(x)\n",
    "    \n",
    "    while not math.isclose(low, high): \n",
    "        mid = 0.5 * (low + high)\n",
    "        mid_squared = mid * mid\n",
    "        if mid_squared > x: \n",
    "            high = mid\n",
    "        else: \n",
    "            low = mid\n",
    "    return low"
   ]
  },
  {
   "cell_type": "code",
   "execution_count": 10,
   "id": "128f80d2-2847-4650-be64-c1b29cf8172f",
   "metadata": {
    "tags": []
   },
   "outputs": [
    {
     "name": "stdout",
     "output_type": "stream",
     "text": [
      "4.999999998835847\n",
      "17.320508070406504\n"
     ]
    }
   ],
   "source": [
    "print(square_root(25))\n",
    "print(square_root(300))"
   ]
  },
  {
   "cell_type": "code",
   "execution_count": 11,
   "id": "da04e4ea-67b2-4b3b-b363-0328bc9ea0a9",
   "metadata": {},
   "outputs": [],
   "source": [
    "# excercise 11.6\n",
    "\n",
    "def matrix_search(m, x): \n",
    "    row, col = 0, len(m) - 1\n",
    "    while row < len(m) and col > 0: \n",
    "        if m[row][col] == x: \n",
    "            return f\"element {x} found at row {row}, column {col}\"\n",
    "        elif m[row][col] > x: \n",
    "            col -= 1\n",
    "        elif m[row][col] < x: \n",
    "            row += 1\n",
    "    return -1"
   ]
  },
  {
   "cell_type": "code",
   "execution_count": 12,
   "id": "62198d24-2a90-427a-8970-b61debe297a8",
   "metadata": {
    "tags": []
   },
   "outputs": [
    {
     "name": "stdout",
     "output_type": "stream",
     "text": [
      "True\n",
      "True\n"
     ]
    }
   ],
   "source": [
    "def test_matrix_search():\n",
    "    # Test case where element is present in the matrix\n",
    "    m1 = [[1, 2, 3],\n",
    "          [4, 5, 6],\n",
    "          [7, 8, 9]]\n",
    "    x1 = 5\n",
    "    print( matrix_search(m1, x1) == \"element 5 found at row 1, column 1\")\n",
    "\n",
    "    # Test case where element is not present in the matrix\n",
    "    m2 = [[1, 2, 3],\n",
    "          [4, 5, 6],\n",
    "          [7, 8, 9]]\n",
    "    x2 = 10\n",
    "    print( matrix_search(m2, x2) == -1)\n",
    "\n",
    "test_matrix_search()"
   ]
  },
  {
   "cell_type": "code",
   "execution_count": 13,
   "id": "59653f0a-788a-4ceb-a917-5bfcdd8046e7",
   "metadata": {
    "tags": []
   },
   "outputs": [],
   "source": [
    "# excercise 11.7\n",
    "\n",
    "\n",
    "# def find_min_max(arr): \n",
    "#     left, right = 0, len(arr) - 1\n",
    "#     small = arr[left]\n",
    "#     big = arr[right]\n",
    "#     if small > big: \n",
    "#         small, big = big, small\n",
    "#     while right > left:\n",
    "#         if arr[right] > arr[left]: \n",
    "#             if arr[left] > arr[left + 1]: \n",
    "#                 small = arr[left + 1]\n",
    "#             left += 1\n",
    "#         elif arr[left] > arr[right]:\n",
    "#             big = arr[left]\n",
    "#             if arr[right] > arr[right - 1]: \n",
    "#                 if small > arr[right - 1]: \n",
    "#                     small = arr[right - 1]\n",
    "#             right -= 1\n",
    "#     return small, big\n",
    "\n",
    "\n",
    "def find_min_max(arr):\n",
    "    if not arr:\n",
    "        return None, None\n",
    "\n",
    "    min_val, max_val = arr[0], arr[0]\n",
    "\n",
    "    for value in arr[1:]:\n",
    "        if value < min_val:\n",
    "            min_val = value\n",
    "        elif value > max_val:\n",
    "            max_val = value\n",
    "\n",
    "    return min_val, max_val\n"
   ]
  },
  {
   "cell_type": "code",
   "execution_count": 14,
   "id": "75aff7dc-182b-467b-9d21-bdfa7253f431",
   "metadata": {
    "tags": []
   },
   "outputs": [
    {
     "name": "stdout",
     "output_type": "stream",
     "text": [
      "(1, 5)\n",
      "(1, 6)\n",
      "(1, 6)\n",
      "(1, 5)\n",
      "(-5, -1)\n",
      "(2, 10)\n"
     ]
    }
   ],
   "source": [
    "print(find_min_max([3,2,5,1,2,4]))\n",
    "# Test Case 1\n",
    "arr = [1, 2, 3, 4, 5, 6]\n",
    "print(find_min_max(arr))\n",
    "\n",
    "# Test Case 2\n",
    "arr = [6, 5, 4, 3, 2, 1]\n",
    "print(find_min_max(arr))\n",
    "\n",
    "\n",
    "arr = [1, 2, 3, 4, 5]\n",
    "print(find_min_max(arr))\n",
    "\n",
    "arr = [-1, -2, -3, -4, -5]\n",
    "print(find_min_max(arr))\n",
    "\n",
    "arr = [10, 8, 6, 4, 2]\n",
    "print(find_min_max(arr))"
   ]
  },
  {
   "cell_type": "code",
   "execution_count": 1,
   "id": "3e94170f-9a78-4f33-b493-08fddedfca67",
   "metadata": {},
   "outputs": [],
   "source": [
    "# excercise 11.8\n",
    "\n",
    "# using the quickselect algorithm\n",
    "\n",
    "import random\n",
    "def findKlargest(arr, k): \n",
    "    pivot = random.choice(arr)\n",
    "    left = [x for x in arr if x > pivot]\n",
    "    mid = [x for x in arr if x == pivot]\n",
    "    right = [x for x in arr if x < pivot]\n",
    "    \n",
    "    l, m = len(left), len(mid)\n",
    "    if k <= l: \n",
    "        return findKlargest(left, k)\n",
    "    elif k > (l + m): \n",
    "        return findKlargest(right, k-(l + m))\n",
    "    else:\n",
    "        return mid[0]"
   ]
  },
  {
   "cell_type": "code",
   "execution_count": 2,
   "id": "b5ee142d-5bed-4666-819f-e2629b64d6e9",
   "metadata": {
    "tags": []
   },
   "outputs": [
    {
     "name": "stdout",
     "output_type": "stream",
     "text": [
      "8\n"
     ]
    }
   ],
   "source": [
    "arr = [10, 8, 6, 4, 2]\n",
    "k = 2\n",
    "print(findKlargest(arr, k))"
   ]
  },
  {
   "cell_type": "code",
   "execution_count": null,
   "id": "0b63678d-9783-446c-b3bc-b2868d075057",
   "metadata": {},
   "outputs": [],
   "source": [
    "# excercise 11.9\n",
    "\n",
    "\n"
   ]
  }
 ],
 "metadata": {
  "kernelspec": {
   "display_name": "Python 3 (ipykernel)",
   "language": "python",
   "name": "python3"
  },
  "language_info": {
   "codemirror_mode": {
    "name": "ipython",
    "version": 3
   },
   "file_extension": ".py",
   "mimetype": "text/x-python",
   "name": "python",
   "nbconvert_exporter": "python",
   "pygments_lexer": "ipython3",
   "version": "3.10.9"
  }
 },
 "nbformat": 4,
 "nbformat_minor": 5
}
