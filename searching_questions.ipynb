{
 "cells": [
  {
   "cell_type": "code",
   "execution_count": 61,
   "id": "a5b47b21-44fd-4af1-8ddb-18eeeffc640a",
   "metadata": {
    "tags": []
   },
   "outputs": [],
   "source": [
    "# excercise 11.1\n",
    "def binary_search(arr, target): \n",
    "    low = 0\n",
    "    high = len(arr) - 1\n",
    "    while high >= low: \n",
    "        mid = low + (high - low) // 2\n",
    "        if arr[mid] == target:\n",
    "            if mid == 0 or arr[mid - 1] != target: \n",
    "                return f\"element {arr[mid]} found at index {mid}\"\n",
    "            else:\n",
    "                high = mid - 1\n",
    "        elif arr[mid] > target: \n",
    "            high = mid - 1\n",
    "        elif arr[mid] < target: \n",
    "            low = mid + 1\n",
    "    return \"Not Found!\""
   ]
  },
  {
   "cell_type": "code",
   "execution_count": 62,
   "id": "a77573e6-4fad-4026-badf-4a36b149aa69",
   "metadata": {
    "tags": []
   },
   "outputs": [
    {
     "name": "stdout",
     "output_type": "stream",
     "text": [
      "element 1 found at index 2\n",
      "element 7 found at index 6\n",
      "element 3 found at index 2\n",
      "Not Found!\n",
      "element 1 found at index 0\n",
      "element 1 found at index 0\n",
      "element 3 found at index 2\n",
      "element 3 found at index 0\n"
     ]
    }
   ],
   "source": [
    "array = [-1, 0, 1, 3, 5]\n",
    "target = 1\n",
    "print(binary_search(array, target))\n",
    "      \n",
    "array = [1, 2, 3, 4, 5, 6, 7, 7, 7]\n",
    "target = 7\n",
    "print(binary_search(array, target))\n",
    "      \n",
    "array = [1, 2, 3, 3, 3, 4, 5, 5, 6, 7]\n",
    "target = 3\n",
    "print(binary_search(array, target))\n",
    "      \n",
    "array = [1, 2, 4, 5, 6, 7]\n",
    "target = 3\n",
    "print(binary_search(array, target))\n",
    "      \n",
    "array = [1]\n",
    "target = 1\n",
    "print(binary_search(array, target))\n",
    "      \n",
    "array = [1, 2]\n",
    "target = 1\n",
    "print(binary_search(array, target))\n",
    "      \n",
    "array = [1, 2, 3, 4, 5, 6]\n",
    "target = 3\n",
    "print(binary_search(array, target))\n",
    "      \n",
    "array = [3, 3, 3, 3]\n",
    "target = 3\n",
    "print(binary_search(array, target))"
   ]
  },
  {
   "cell_type": "code",
   "execution_count": 1,
   "id": "19cb9fab-9da7-4815-a6d2-f0129be737d4",
   "metadata": {},
   "outputs": [],
   "source": [
    "# excercise 11.2\n",
    "\n",
    "def search_entry_equal_to_index(arr):\n",
    "    low, high = 0, len(arr) - 1\n",
    "    while low <= high: \n",
    "        mid = (low + high) // 2\n",
    "        dif = arr[mid] - mid\n",
    "        if dif == 0: \n",
    "            return mid\n",
    "        elif dif > 0: \n",
    "            low = mid - 1\n",
    "        elif dif < 0: \n",
    "            high = mid + 1\n",
    "    \n",
    "    return -1"
   ]
  },
  {
   "cell_type": "code",
   "execution_count": 2,
   "id": "a117b90c",
   "metadata": {},
   "outputs": [
    {
     "name": "stdout",
     "output_type": "stream",
     "text": [
      "3\n"
     ]
    }
   ],
   "source": [
    "print(search_entry_equal_to_index([-2,0,2,3,6,7,9]))"
   ]
  }
 ],
 "metadata": {
  "kernelspec": {
   "display_name": "Python 3 (ipykernel)",
   "language": "python",
   "name": "python3"
  },
  "language_info": {
   "codemirror_mode": {
    "name": "ipython",
    "version": 3
   },
   "file_extension": ".py",
   "mimetype": "text/x-python",
   "name": "python",
   "nbconvert_exporter": "python",
   "pygments_lexer": "ipython3",
   "version": "3.9.13"
  }
 },
 "nbformat": 4,
 "nbformat_minor": 5
}
